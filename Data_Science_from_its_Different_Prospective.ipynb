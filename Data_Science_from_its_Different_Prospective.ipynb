{
  "nbformat": 4,
  "nbformat_minor": 0,
  "metadata": {
    "anaconda-cloud": {},
    "kernelspec": {
      "display_name": "Python 3",
      "language": "python",
      "name": "python3"
    },
    "language_info": {
      "codemirror_mode": {
        "name": "ipython",
        "version": 3
      },
      "file_extension": ".py",
      "mimetype": "text/x-python",
      "name": "python",
      "nbconvert_exporter": "python",
      "pygments_lexer": "ipython3",
      "version": "3.6.5"
    },
    "colab": {
      "name": "Data Science from its Different Prospective.ipynb",
      "provenance": []
    }
  },
  "cells": [
    {
      "cell_type": "markdown",
      "metadata": {
        "id": "VZnjfkHA7ZfF",
        "colab_type": "text"
      },
      "source": [
        "<img src=\"https://github.com/insaid2018/Term-1/blob/master/Images/INSAID_Full%20Logo.png?raw=true\" width=\"240\" height=\"360\" />\n",
        "# TERM - 2\n",
        "# INTRO TO MACHINE LEARNING"
      ]
    },
    {
      "cell_type": "markdown",
      "metadata": {
        "id": "MTM8NOjX7ZfJ",
        "colab_type": "text"
      },
      "source": [
        "## Data Science from different perspective"
      ]
    },
    {
      "cell_type": "markdown",
      "metadata": {
        "id": "Ctn7MjS47ZfK",
        "colab_type": "text"
      },
      "source": [
        "![image.png](attachment:image.png)"
      ]
    },
    {
      "cell_type": "markdown",
      "metadata": {
        "id": "52eDLRhy7ZfL",
        "colab_type": "text"
      },
      "source": [
        "## What is Data Science\n",
        "\n",
        "Data science is an interdisciplinary field about __scientific__ _methods_, _processes_ and _systems_ to extract __Knowledge or insights__ from data in various forms, either __structured or unstructured__.\n",
        "![image.png](attachment:image.png)"
      ]
    },
    {
      "cell_type": "markdown",
      "metadata": {
        "id": "DS8j9uuG7ZfM",
        "colab_type": "text"
      },
      "source": [
        "  \n",
        "\n",
        "\n",
        "\n",
        "## Data Science Process\n",
        "\n",
        "The three components involved in data science are __organising__, __packaging__ and __delivering__ data.<br/>\n",
        "The 3 step OPD Data Science Process\n",
        "\n",
        "### Step 1. Organise Data.\n",
        "Organising data involves the __physical storage and format of data__ and incorporated best practices in data management.\n",
        "\n",
        "### Step 2. Package Data. \n",
        "Packaging data involves __logically manipulating__ and __joining the underlying raw data__ into a _new representation_ and package.\n",
        "\n",
        "### Step 3. Deliver Data.\n",
        "Delivering data involves ensuring that the __message__ the __data__ has is being accessed by those that need to hear it.\n",
        "\n",
        "____"
      ]
    },
    {
      "cell_type": "markdown",
      "metadata": {
        "id": "0AY4WXkW7ZfN",
        "colab_type": "text"
      },
      "source": [
        "## Intro to Machine Learning\n"
      ]
    },
    {
      "cell_type": "markdown",
      "metadata": {
        "id": "Ht3dqyYq7ZfO",
        "colab_type": "text"
      },
      "source": [
        "![image.png](attachment:image.png)"
      ]
    },
    {
      "cell_type": "markdown",
      "metadata": {
        "id": "louu9kz47ZfP",
        "colab_type": "text"
      },
      "source": [
        "#### Machine learning is the idea that there are generic algorithms that can tell you something interesting about a set of data without you having to write any custom code specific to the problem. \n",
        "\n",
        "Instead of writing code, you feed data to the generic algorithm and it builds its own logic based on the data."
      ]
    },
    {
      "cell_type": "markdown",
      "metadata": {
        "id": "lJrgzkvz7ZfQ",
        "colab_type": "text"
      },
      "source": [
        "![image.png](attachment:image.png)"
      ]
    },
    {
      "cell_type": "markdown",
      "metadata": {
        "id": "9LTV8_Hm7ZfR",
        "colab_type": "text"
      },
      "source": [
        "# Types of Machine Learning Systems\n",
        "\n",
        "There are so many different types of Machine Learning systems that it is useful to classify them in broad categories based on:\n",
        "- Whether or not they are trained with human supervision (__supervised__, __unsupervised__, __semisupervised__, and __Reinforcement Learning__)\n",
        "- Whether or not they can learn incrementally on the fly (__online versus batch learning__)\n",
        "- Whether they work by simply comparing new data points to known data points, or instead detect patterns in the training data and build a predictive model, much like scientists do (__instance-based versus model-based learning__)\n"
      ]
    },
    {
      "cell_type": "markdown",
      "metadata": {
        "id": "yTMU_mEg7ZfS",
        "colab_type": "text"
      },
      "source": [
        "## Supervised Learning"
      ]
    },
    {
      "cell_type": "markdown",
      "metadata": {
        "id": "nctLco4j7ZfT",
        "colab_type": "text"
      },
      "source": [
        "![image.png](attachment:image.png)"
      ]
    },
    {
      "cell_type": "markdown",
      "metadata": {
        "id": "tpqmFSr_7ZfU",
        "colab_type": "text"
      },
      "source": [
        "Supervised learning is where you have input variables (x) and an output variable (Y) and you use an algorithm to learn the mapping function from the input to the output. The __goal__ is to _approximate the mapping function so well that when you have new input data (x) that you can predict the output variables (Y) for that data_."
      ]
    },
    {
      "cell_type": "markdown",
      "metadata": {
        "id": "GL2vfMTq7ZfV",
        "colab_type": "text"
      },
      "source": [
        "![image.png](attachment:image.png)"
      ]
    },
    {
      "cell_type": "markdown",
      "metadata": {
        "id": "vLLXc9L27ZfW",
        "colab_type": "text"
      },
      "source": [
        "## Supervised learning problems can be further grouped into regression and classification problems.\n",
        "\n",
        "#### Classification:\n",
        "A __classification problem__ is when the output variable is a __category__, such as “red” or “blue” or “disease” and “no disease”.\n",
        "#### Regression: \n",
        "A __regression problem__ is when the output variable is a __real value__, such as “rupees” or “weight”."
      ]
    },
    {
      "cell_type": "markdown",
      "metadata": {
        "id": "GUoYf6Sm7ZfX",
        "colab_type": "text"
      },
      "source": [
        "#### Some popular examples of supervised machine learning algorithms are:\n",
        "\n",
        "- __Linear regression__ for _regression_ problems,\n",
        "- __Random forest__ for _classification_ and _regression_ problems,\n",
        "- __Support vector machines (SVM)__ for _classification_ problems."
      ]
    },
    {
      "cell_type": "markdown",
      "metadata": {
        "id": "6JzOgl-H7ZfY",
        "colab_type": "text"
      },
      "source": [
        "In Machine Learning an **attribute** is a data type (e.g., “Mileage”), while a **feature** has several meanings depending on the context, but generally means an attribute plus its value (e.g., “Mileage = 15,000”). Many people use the words attribute and feature interchangeably, though."
      ]
    },
    {
      "cell_type": "markdown",
      "metadata": {
        "id": "s0Z4A-SR7ZfZ",
        "colab_type": "text"
      },
      "source": [
        "![image.png](attachment:image.png)"
      ]
    },
    {
      "cell_type": "markdown",
      "metadata": {
        "id": "CWo6LQPa7Zfa",
        "colab_type": "text"
      },
      "source": [
        "## Unsupervised Machine Learning"
      ]
    },
    {
      "cell_type": "markdown",
      "metadata": {
        "id": "mNS5heN-7Zfa",
        "colab_type": "text"
      },
      "source": [
        "![image.png](attachment:image.png)"
      ]
    },
    {
      "cell_type": "markdown",
      "metadata": {
        "id": "G-3PB9557Zfb",
        "colab_type": "text"
      },
      "source": [
        "Unsupervised learning is where you only have __input data (X)__ and __no corresponding output variables__.\n",
        "\n",
        "The __goal__ for unsupervised learning is to _model the underlying structure or distribution in the data in order to learn more about the data_."
      ]
    },
    {
      "cell_type": "markdown",
      "metadata": {
        "id": "h_Q_gJuu7Zfc",
        "colab_type": "text"
      },
      "source": [
        "![image.png](attachment:image.png)"
      ]
    },
    {
      "cell_type": "markdown",
      "metadata": {
        "id": "_lfWlyZA7Zfd",
        "colab_type": "text"
      },
      "source": [
        "### Unsupervised learning problems can be further grouped into clustering and association problems.\n",
        "\n",
        "#### Clustering:\n",
        "A __clustering problem__ is where you want to discover the __inherent groupings__ in the data, such as _grouping customers by purchasing behavior_.\n",
        "#### Association:\n",
        "An __association rule__ learning problem is where you want to discover __rules that describe large portions__ of your data, such as _people that buy X also tend to buy Y_."
      ]
    },
    {
      "cell_type": "markdown",
      "metadata": {
        "id": "Q1eq35gA7Zff",
        "colab_type": "text"
      },
      "source": [
        "![image.png](attachment:image.png)"
      ]
    },
    {
      "cell_type": "markdown",
      "metadata": {
        "id": "oG9B6fWO7Zfg",
        "colab_type": "text"
      },
      "source": [
        "## Semisupervised learning"
      ]
    },
    {
      "cell_type": "markdown",
      "metadata": {
        "id": "iZsSZgyB7Zfh",
        "colab_type": "text"
      },
      "source": [
        "Some algorithms can deal with __partially labeled training data__, usually a _lot of unlabeled data and a little bit of labeled data_. \n",
        "\n",
        "Some __photo-hosting services__, such as _Google Photos_, are good examples of this."
      ]
    },
    {
      "cell_type": "markdown",
      "metadata": {
        "id": "mXhT_wO_7Zfi",
        "colab_type": "text"
      },
      "source": [
        "![image.png](attachment:image.png)"
      ]
    },
    {
      "cell_type": "markdown",
      "metadata": {
        "id": "T2Md0OR67Zfj",
        "colab_type": "text"
      },
      "source": [
        "# Why Use Machine Learning?"
      ]
    },
    {
      "cell_type": "markdown",
      "metadata": {
        "id": "AL_Wbxli7Zfk",
        "colab_type": "text"
      },
      "source": [
        "![image.png](attachment:image.png)"
      ]
    },
    {
      "cell_type": "markdown",
      "metadata": {
        "id": "oHhcXqLE7Zfl",
        "colab_type": "text"
      },
      "source": [
        "_______________________________________________________________________________________"
      ]
    },
    {
      "cell_type": "markdown",
      "metadata": {
        "id": "KRyFR3QN7Zfm",
        "colab_type": "text"
      },
      "source": [
        "![image.png](attachment:image.png)"
      ]
    },
    {
      "cell_type": "markdown",
      "metadata": {
        "id": "zlS3wJ-47Zfm",
        "colab_type": "text"
      },
      "source": [
        "____"
      ]
    },
    {
      "cell_type": "markdown",
      "metadata": {
        "id": "UaN3-HtA7Zfn",
        "colab_type": "text"
      },
      "source": [
        "![image.png](attachment:image.png)"
      ]
    },
    {
      "cell_type": "markdown",
      "metadata": {
        "id": "7gfU87N87Zfo",
        "colab_type": "text"
      },
      "source": [
        "###  To summarize, Machine Learning is great for:\n",
        "- Problems for which __existing solutions require a lot of hand-tuning__ or long lists of rules: one Machine Learning algorithm can often simplify code and perform better.\n",
        "\n",
        "- Complex problems for which __there is no good solution at all using a traditional approach__: the best Machine Learning techniques can find a solution.\n",
        "- __Fluctuating environments__: a Machine Learning system can adapt to new data.\n",
        "- Getting __insights__ about _complex problems_ and _large amounts of data_."
      ]
    },
    {
      "cell_type": "markdown",
      "metadata": {
        "id": "Y6Txl2W_7Zfp",
        "colab_type": "text"
      },
      "source": [
        "![image.png](attachment:image.png)"
      ]
    },
    {
      "cell_type": "markdown",
      "metadata": {
        "id": "GYRvy9DJ7Zfq",
        "colab_type": "text"
      },
      "source": [
        "# Reinforcement Learning"
      ]
    },
    {
      "cell_type": "markdown",
      "metadata": {
        "id": "3kYMgkqr7Zfq",
        "colab_type": "text"
      },
      "source": [
        "Reinforcement Learning is a very different __beast__. The learning system, called an __agent__ in this context, can observe the __environment__, select and __perform actions__, and __get rewards__"
      ]
    },
    {
      "cell_type": "markdown",
      "metadata": {
        "id": "XFd7k6B77Zfr",
        "colab_type": "text"
      },
      "source": [
        "![image.png](attachment:image.png)"
      ]
    },
    {
      "cell_type": "markdown",
      "metadata": {
        "id": "LQT4PZB77Zfs",
        "colab_type": "text"
      },
      "source": [
        "# Batch and Online Learning\n",
        "\n",
        "Another criterion used to classify Machine Learning systems is whether or not the system can __learn incrementally__ from a __stream of incoming data__.\n"
      ]
    },
    {
      "cell_type": "markdown",
      "metadata": {
        "id": "DSlG2PYf7Zft",
        "colab_type": "text"
      },
      "source": [
        "## Batch learning\n",
        "\n",
        "In batch learning, the system is __incapable__ of learning incrementally: it must be _trained using all the available data_. "
      ]
    },
    {
      "cell_type": "markdown",
      "metadata": {
        "id": "xQE1ymQW7Zfu",
        "colab_type": "text"
      },
      "source": [
        "## Online learning\n",
        "\n",
        "In online learning, you __train the system incrementally__ by feeding it data instances sequentially, either individually or by small groups called mini-batches. Each learning step is __fast and cheap__, so the system can learn about _new data on the fly_, as it arrives"
      ]
    },
    {
      "cell_type": "markdown",
      "metadata": {
        "id": "trQvQTOP7Zfv",
        "colab_type": "text"
      },
      "source": [
        "![image.png](attachment:image.png)"
      ]
    },
    {
      "cell_type": "markdown",
      "metadata": {
        "id": "nKAR45gc7Zfv",
        "colab_type": "text"
      },
      "source": [
        "# Instance-Based Versus Model-Based Learning\n",
        "\n",
        "One more way to categorize Machine Learning systems is by __how they generalize__."
      ]
    },
    {
      "cell_type": "markdown",
      "metadata": {
        "id": "RaVvh_tT7Zfw",
        "colab_type": "text"
      },
      "source": [
        "## Instance-based learning\n",
        "\n",
        "The system learns the examples by __heart__, then generalizes to new cases using a _similarity measure_"
      ]
    },
    {
      "cell_type": "markdown",
      "metadata": {
        "id": "o5sGLOyd7Zfx",
        "colab_type": "text"
      },
      "source": [
        "![image.png](attachment:image.png)"
      ]
    },
    {
      "cell_type": "markdown",
      "metadata": {
        "id": "sZlIhIKQ7Zfy",
        "colab_type": "text"
      },
      "source": [
        "##  Model-based learning\n",
        "\n",
        "Another way to generalize from a __set of examples__ is to _build a model of these examples_, then use that model to make __predictions__. This is called model-based learning "
      ]
    },
    {
      "cell_type": "markdown",
      "metadata": {
        "id": "-tA1MGcx7Zfz",
        "colab_type": "text"
      },
      "source": [
        "![image.png](attachment:image.png)"
      ]
    },
    {
      "cell_type": "markdown",
      "metadata": {
        "id": "KBXLgV3i7Zf0",
        "colab_type": "text"
      },
      "source": [
        "![image.png](attachment:image.png)"
      ]
    },
    {
      "cell_type": "markdown",
      "metadata": {
        "id": "DRaucPFo7Zf1",
        "colab_type": "text"
      },
      "source": [
        "![image.png](attachment:image.png)"
      ]
    },
    {
      "cell_type": "markdown",
      "metadata": {
        "id": "lbrv-E1M7Zf2",
        "colab_type": "text"
      },
      "source": [
        "![image.png](attachment:image.png)"
      ]
    },
    {
      "cell_type": "markdown",
      "metadata": {
        "id": "rmJRh7xL7Zf3",
        "colab_type": "text"
      },
      "source": [
        "![image.png](attachment:image.png)"
      ]
    },
    {
      "cell_type": "markdown",
      "metadata": {
        "id": "jKbXQksh7Zf4",
        "colab_type": "text"
      },
      "source": [
        "![image.png](attachment:image.png)"
      ]
    },
    {
      "cell_type": "markdown",
      "metadata": {
        "id": "2be_YYAE7Zf5",
        "colab_type": "text"
      },
      "source": [
        "## The Machine Learning Stack"
      ]
    },
    {
      "cell_type": "markdown",
      "metadata": {
        "id": "yxR6ZZUh7Zf6",
        "colab_type": "text"
      },
      "source": [
        "![image.png](attachment:image.png)"
      ]
    },
    {
      "cell_type": "markdown",
      "metadata": {
        "id": "hS5UHpNm7Zf7",
        "colab_type": "text"
      },
      "source": [
        "# Technologies"
      ]
    },
    {
      "cell_type": "markdown",
      "metadata": {
        "id": "RkXveW-17Zf8",
        "colab_type": "text"
      },
      "source": [
        "![image.png](attachment:image.png)"
      ]
    },
    {
      "cell_type": "markdown",
      "metadata": {
        "id": "cm0FjIGU7Zf9",
        "colab_type": "text"
      },
      "source": [
        "## R \n",
        "R is an integrated suite of software facilities for __data manipulation__, __calculation__ and __graphical display__. [4]\n",
        "## R-Studio\n",
        "RStudio is an __open source__ and enterprise-ready professional software for R. [5]\n",
        "## Python\n",
        "Python is a general-purpose interpreted, __dynamically typed__, __interactive__, __object-oriented__, and __high-level programming language__. [6]\n",
        "There are two main versions of python in use currently, __Python 2__ and __Python 3__.\n",
        "## Anaconda\n",
        "Anaconda is a __freemium open source distribution__ of the Python and R programming languages. [7]\n",
        "It is used for large-scale __data processing__, __predictive analytics__, and __scientific computing__, that aims to simplify package management and deployment. \n",
        "\n",
        "Its package management system is conda.\n",
        "## PyCharm \n",
        "PyCharm is an Integrated Development Environment (__IDE__) used in computer programming, specifically for the Python language.[8]\n",
        "\n",
        "PyCharm is cross-platform, with Windows, macOS and Linux versions.\n",
        "## Atom \n",
        "Atom is a __free and open-source__, __text__ and __source code editor__. [9]\n",
        "Available for macOS, Linux, and Microsoft Windows with support for plug-ins written in __Node.js__, and __embedded Git Control__, developed by GitHub. \n",
        "## Shell Script\n",
        "The shell is a program that takes your commands from the keyboard and gives them to the operating system to perform \n",
        "\n",
        "Shell is an environment in which we can run our __commands__, __programs__, and __shell scripts__.\n",
        "## Command Line\n",
        "It is a means of interacting with a computer program where client communicates with a system through __text based commands__\n",
        "## PuTTy\n",
        "PuTTY is a client program for the __SSH__, __Telnet__ and __Rlogin network__ protocols. These protocols are all used to run a __remote session__ on a computer, __over a network__. [10]\n",
        "## Dask\n",
        "Dask is a flexible __parallel computing library__ for analytic computing. [11]\n",
        "## TensorFlow\n",
        "TensorFlow™ is an open source software library for __numerical computation using data flow graphs__. [12]\n",
        "## PyTorch \n",
        "PyTorch is a python package that provides two high-level features: [13]\n",
        "\n",
        "1. __Tensor computation__ (like numpy) with strong _GPU acceleration_\n",
        "2. Deep Neural Networks built on a __tape-based autograd system__\n",
        "\n",
        "## Apache Spark \n",
        "Apache Spark is an open-source __cluster-computing__ framework. [14]\n",
        "## H2O\n",
        "It is a fast __statistical__, __machine learning__ & __math runtime__ for bigdata. [15]\n",
        "## DL4J\n",
        "Open-Source, Distributed, __Deep Learning Library__ for the JVM [16]\n",
        "## IBM Watson\n",
        "Watson is a __question answering__ computer system capable of answering questions posed in natural language, developed by IBM. [17]\n",
        "## Cassandra\n",
        "Apache Cassandra is a free and open-source distributed __NoSQL database management system__. [18]\n",
        "It is designed to handle large amounts of data across many __commodity servers__, providing high availability with __no__ _single point of failure_. "
      ]
    },
    {
      "cell_type": "markdown",
      "metadata": {
        "id": "afpDUjv47Zf-",
        "colab_type": "text"
      },
      "source": [
        "# Use Cases"
      ]
    },
    {
      "cell_type": "markdown",
      "metadata": {
        "id": "BuAmpqPA7Zf_",
        "colab_type": "text"
      },
      "source": [
        "![image.png](attachment:image.png)"
      ]
    },
    {
      "cell_type": "markdown",
      "metadata": {
        "id": "0JSAJvH87ZgA",
        "colab_type": "text"
      },
      "source": [
        "![image.png](attachment:image.png)"
      ]
    },
    {
      "cell_type": "markdown",
      "metadata": {
        "id": "BpwLwwPo7ZgB",
        "colab_type": "text"
      },
      "source": [
        "![image.png](attachment:image.png)"
      ]
    },
    {
      "cell_type": "markdown",
      "metadata": {
        "id": "kq9XOBn97ZgC",
        "colab_type": "text"
      },
      "source": [
        "![image.png](attachment:image.png)"
      ]
    },
    {
      "cell_type": "markdown",
      "metadata": {
        "id": "g1O64LDM7ZgD",
        "colab_type": "text"
      },
      "source": [
        "![image.png](attachment:image.png)"
      ]
    },
    {
      "cell_type": "markdown",
      "metadata": {
        "id": "f3Cp48Bc7ZgD",
        "colab_type": "text"
      },
      "source": [
        "![image.png](attachment:image.png)"
      ]
    },
    {
      "cell_type": "markdown",
      "metadata": {
        "id": "XNU4yQm-7ZgE",
        "colab_type": "text"
      },
      "source": [
        "![image.png](attachment:image.png)"
      ]
    },
    {
      "cell_type": "markdown",
      "metadata": {
        "id": "wCgFXFBF7ZgG",
        "colab_type": "text"
      },
      "source": [
        "![image.png](attachment:image.png)"
      ]
    },
    {
      "cell_type": "markdown",
      "metadata": {
        "id": "8D3uYrek7ZgG",
        "colab_type": "text"
      },
      "source": [
        "![image.png](attachment:image.png)"
      ]
    },
    {
      "cell_type": "markdown",
      "metadata": {
        "id": "wZ_61YNQ7ZgH",
        "colab_type": "text"
      },
      "source": [
        "![image.png](attachment:image.png)"
      ]
    },
    {
      "cell_type": "markdown",
      "metadata": {
        "collapsed": true,
        "id": "ry_NK2vU7ZgI",
        "colab_type": "text"
      },
      "source": [
        "### References\n",
        "[1] Frank Chamaki blog <br>\n",
        "[2] Victor Lavrenko<br>\n",
        "[3] Venturisity Blog<br>\n"
      ]
    }
  ]
}